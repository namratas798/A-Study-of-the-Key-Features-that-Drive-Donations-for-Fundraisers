{
  "cells": [
    {
      "cell_type": "code",
      "execution_count": null,
      "metadata": {
        "id": "y26VPS83oF1E"
      },
      "outputs": [],
      "source": [
        "import pandas as pd\n",
        "import numpy as np\n",
        "import nltk\n",
        "from nltk.tokenize import word_tokenize\n",
        "from nltk.stem.porter import PorterStemmer"
      ]
    },
    {
      "cell_type": "code",
      "execution_count": null,
      "metadata": {
        "id": "m5pyGcWeoYRH"
      },
      "outputs": [],
      "source": [
        "df = pd.read_excel(\"/content/GoFundMe_Dataset.xlsx\")"
      ]
    },
    {
      "cell_type": "code",
      "execution_count": null,
      "metadata": {
        "colab": {
          "base_uri": "https://localhost:8080/"
        },
        "id": "_Vfh7zxeoYTf",
        "outputId": "ddd3bdc1-0634-40eb-ad47-3e3d393bbb9c"
      },
      "outputs": [
        {
          "output_type": "execute_result",
          "data": {
            "text/plain": [
              "(1242, 15)"
            ]
          },
          "metadata": {},
          "execution_count": 3
        }
      ],
      "source": [
        "df.shape"
      ]
    },
    {
      "cell_type": "code",
      "execution_count": null,
      "metadata": {
        "colab": {
          "base_uri": "https://localhost:8080/"
        },
        "id": "9jpfnyOCoYVr",
        "outputId": "f8d7c14a-680c-4fc0-9ae0-01c67e2ecdb1"
      },
      "outputs": [
        {
          "output_type": "stream",
          "name": "stdout",
          "text": [
            "<class 'pandas.core.frame.DataFrame'>\n",
            "RangeIndex: 1242 entries, 0 to 1241\n",
            "Data columns (total 15 columns):\n",
            " #   Column                 Non-Null Count  Dtype  \n",
            "---  ------                 --------------  -----  \n",
            " 0   Unnamed: 0             1242 non-null   int64  \n",
            " 1   Url                    1241 non-null   object \n",
            " 2   Category               1241 non-null   object \n",
            " 3   Position               1239 non-null   float64\n",
            " 4   Title                  1239 non-null   object \n",
            " 5   Location               1235 non-null   object \n",
            " 6   Amount_Raised          1232 non-null   float64\n",
            " 7   Goal                   1232 non-null   object \n",
            " 8   Number_of_Donators     1232 non-null   object \n",
            " 9   Length_of_Fundraising  1231 non-null   object \n",
            " 10  FB_Shares              1194 non-null   object \n",
            " 11  GFM_hearts             1234 non-null   object \n",
            " 12  Text                   1237 non-null   object \n",
            " 13  Latitude               1235 non-null   float64\n",
            " 14  Longitude              1235 non-null   float64\n",
            "dtypes: float64(4), int64(1), object(10)\n",
            "memory usage: 145.7+ KB\n"
          ]
        }
      ],
      "source": [
        "df.info()"
      ]
    },
    {
      "cell_type": "code",
      "execution_count": null,
      "metadata": {
        "id": "u0micpxSoYYX"
      },
      "outputs": [],
      "source": [
        "df.drop(columns=['Unnamed: 0'],inplace=True)"
      ]
    },
    {
      "cell_type": "code",
      "execution_count": null,
      "metadata": {
        "id": "SLIoM-U5oYaa"
      },
      "outputs": [],
      "source": [
        "# Replace any missing or null values in the 'Title' and 'description' columns with an empty string\n",
        "df['Title'] = df['Title'].fillna('')\n",
        "df['Text'] = df['Text'].fillna('')"
      ]
    },
    {
      "cell_type": "code",
      "execution_count": null,
      "metadata": {
        "id": "qSabkMv1oYcx"
      },
      "outputs": [],
      "source": [
        "df['Title'] = df['Title'].astype(str)\n",
        "df['Text'] = df['Text'].astype(str)"
      ]
    },
    {
      "cell_type": "code",
      "execution_count": null,
      "metadata": {
        "colab": {
          "base_uri": "https://localhost:8080/",
          "height": 1000
        },
        "id": "UCTuavv1oYfL",
        "outputId": "5667c0a1-6b3f-47de-c627-b2489ca59d98"
      },
      "outputs": [
        {
          "output_type": "execute_result",
          "data": {
            "text/plain": [
              "                                                    Url   Category  Position  \\\n",
              "837   https://www.gofundme.com/tomarastribe-ittakesa...     Family       9.0   \n",
              "1133  https://www.gofundme.com/marchforourliveslouis...  Volunteer      11.0   \n",
              "1197  https://www.gofundme.com/in-memory-of-chava-or...     Wishes       9.0   \n",
              "1063  https://www.gofundme.com/singing-opportunity-o...     Travel      12.0   \n",
              "201   https://www.gofundme.com/support-family-of-jin...  Emergency      17.0   \n",
              "1150  https://www.gofundme.com/vote-for-our-lives-re...  Volunteer      17.0   \n",
              "340   https://www.gofundme.com/cannizzaro-children-e...  Education      15.0   \n",
              "730   https://www.gofundme.com/sphinx-restoration-pr...      Event      21.0   \n",
              "66                    https://www.gofundme.com/rob-ryan    Medical      22.0   \n",
              "128   https://www.gofundme.com/bereaving-inbaraj-ved...   Memorial      17.0   \n",
              "\n",
              "                                   Title              Location  Amount_Raised  \\\n",
              "837   Tomara's Tribe: It Takes A Village           HOUSTON, TX        53970.0   \n",
              "1133      March For Our Lives Louisville        LOUISVILLE, KY         9930.0   \n",
              "1197        In memory of Chava Ortiz Jr.           ACWORTH, GA        18055.0   \n",
              "1063   Singing opportunity of a lifetime          SANTA FE, NM         7120.0   \n",
              "201        Support family of Jinu Joseph          PEARLAND, TX        73275.0   \n",
              "1150     Vote for Our Lives Redwood City        SAN CARLOS, CA         7500.0   \n",
              "340   Cannizzaro Children Education Fund           TOLLAND, CT        29148.0   \n",
              "730           Sphinx Restoration Project        BIRMINGHAM, AL         6105.0   \n",
              "66            Help Rob Ryan Beat Cancer!  LAKE SAINT LOUIS, MO        92970.0   \n",
              "128        Bereaving Inbaraj Vedasagayam            EDISON, NJ        70852.0   \n",
              "\n",
              "       Goal Number_of_Donators Length_of_Fundraising FB_Shares GFM_hearts  \\\n",
              "837   60000                681               1 month      2.4k        722   \n",
              "1133  10000                144              5 months       334        143   \n",
              "1197  15000                 75              2 months       337         79   \n",
              "1063   5750                 78              5 months        90         59   \n",
              "201   85000                721               18 days       816        720   \n",
              "1150  10000                 34              2 months        53         34   \n",
              "340   40000                169               1 month        96        175   \n",
              "730    6000                173              6 months       500        158   \n",
              "66    75000                614              2 months      1.3k        614   \n",
              "128   75000                690              3 months       623        689   \n",
              "\n",
              "                                                   Text   Latitude   Longitude  \n",
              "837   Mary Underwood needs your help today! Tomara's...  29.760427  -95.369803  \n",
              "1133  Chris Rowzee needs your help today! March For ...  38.252665  -85.758456  \n",
              "1197  Rosa Tejeda needs your help today! In memory o...  34.065933  -84.676880  \n",
              "1063  Karren Sahler needs your help today! Singing o...  35.686975 -105.937799  \n",
              "201   Bincy Jacob needs your help today! Support fam...  29.563567  -95.286047  \n",
              "1150  Jonathan Romanowsky needs your help today! Vot...  37.507159 -122.260522  \n",
              "340   Patricia Cannizzaro needs your help today! Can...  41.871487  -72.368693  \n",
              "730   Rundgren Radio needs your help today! Sphinx R...  33.518589  -86.810357  \n",
              "66    Jennifer Ryan needs your help today! Help Rob ...  38.780938  -90.788360  \n",
              "128   Gifta Lorraine Sundar Singh needs your help to...  40.518715  -74.412095  "
            ],
            "text/html": [
              "\n",
              "  <div id=\"df-e7c41fc5-7dfe-42cf-84f4-7e695b38284a\">\n",
              "    <div class=\"colab-df-container\">\n",
              "      <div>\n",
              "<style scoped>\n",
              "    .dataframe tbody tr th:only-of-type {\n",
              "        vertical-align: middle;\n",
              "    }\n",
              "\n",
              "    .dataframe tbody tr th {\n",
              "        vertical-align: top;\n",
              "    }\n",
              "\n",
              "    .dataframe thead th {\n",
              "        text-align: right;\n",
              "    }\n",
              "</style>\n",
              "<table border=\"1\" class=\"dataframe\">\n",
              "  <thead>\n",
              "    <tr style=\"text-align: right;\">\n",
              "      <th></th>\n",
              "      <th>Url</th>\n",
              "      <th>Category</th>\n",
              "      <th>Position</th>\n",
              "      <th>Title</th>\n",
              "      <th>Location</th>\n",
              "      <th>Amount_Raised</th>\n",
              "      <th>Goal</th>\n",
              "      <th>Number_of_Donators</th>\n",
              "      <th>Length_of_Fundraising</th>\n",
              "      <th>FB_Shares</th>\n",
              "      <th>GFM_hearts</th>\n",
              "      <th>Text</th>\n",
              "      <th>Latitude</th>\n",
              "      <th>Longitude</th>\n",
              "    </tr>\n",
              "  </thead>\n",
              "  <tbody>\n",
              "    <tr>\n",
              "      <th>837</th>\n",
              "      <td>https://www.gofundme.com/tomarastribe-ittakesa...</td>\n",
              "      <td>Family</td>\n",
              "      <td>9.0</td>\n",
              "      <td>Tomara's Tribe: It Takes A Village</td>\n",
              "      <td>HOUSTON, TX</td>\n",
              "      <td>53970.0</td>\n",
              "      <td>60000</td>\n",
              "      <td>681</td>\n",
              "      <td>1 month</td>\n",
              "      <td>2.4k</td>\n",
              "      <td>722</td>\n",
              "      <td>Mary Underwood needs your help today! Tomara's...</td>\n",
              "      <td>29.760427</td>\n",
              "      <td>-95.369803</td>\n",
              "    </tr>\n",
              "    <tr>\n",
              "      <th>1133</th>\n",
              "      <td>https://www.gofundme.com/marchforourliveslouis...</td>\n",
              "      <td>Volunteer</td>\n",
              "      <td>11.0</td>\n",
              "      <td>March For Our Lives Louisville</td>\n",
              "      <td>LOUISVILLE, KY</td>\n",
              "      <td>9930.0</td>\n",
              "      <td>10000</td>\n",
              "      <td>144</td>\n",
              "      <td>5 months</td>\n",
              "      <td>334</td>\n",
              "      <td>143</td>\n",
              "      <td>Chris Rowzee needs your help today! March For ...</td>\n",
              "      <td>38.252665</td>\n",
              "      <td>-85.758456</td>\n",
              "    </tr>\n",
              "    <tr>\n",
              "      <th>1197</th>\n",
              "      <td>https://www.gofundme.com/in-memory-of-chava-or...</td>\n",
              "      <td>Wishes</td>\n",
              "      <td>9.0</td>\n",
              "      <td>In memory of Chava Ortiz Jr.</td>\n",
              "      <td>ACWORTH, GA</td>\n",
              "      <td>18055.0</td>\n",
              "      <td>15000</td>\n",
              "      <td>75</td>\n",
              "      <td>2 months</td>\n",
              "      <td>337</td>\n",
              "      <td>79</td>\n",
              "      <td>Rosa Tejeda needs your help today! In memory o...</td>\n",
              "      <td>34.065933</td>\n",
              "      <td>-84.676880</td>\n",
              "    </tr>\n",
              "    <tr>\n",
              "      <th>1063</th>\n",
              "      <td>https://www.gofundme.com/singing-opportunity-o...</td>\n",
              "      <td>Travel</td>\n",
              "      <td>12.0</td>\n",
              "      <td>Singing opportunity of a lifetime</td>\n",
              "      <td>SANTA FE, NM</td>\n",
              "      <td>7120.0</td>\n",
              "      <td>5750</td>\n",
              "      <td>78</td>\n",
              "      <td>5 months</td>\n",
              "      <td>90</td>\n",
              "      <td>59</td>\n",
              "      <td>Karren Sahler needs your help today! Singing o...</td>\n",
              "      <td>35.686975</td>\n",
              "      <td>-105.937799</td>\n",
              "    </tr>\n",
              "    <tr>\n",
              "      <th>201</th>\n",
              "      <td>https://www.gofundme.com/support-family-of-jin...</td>\n",
              "      <td>Emergency</td>\n",
              "      <td>17.0</td>\n",
              "      <td>Support family of Jinu Joseph</td>\n",
              "      <td>PEARLAND, TX</td>\n",
              "      <td>73275.0</td>\n",
              "      <td>85000</td>\n",
              "      <td>721</td>\n",
              "      <td>18 days</td>\n",
              "      <td>816</td>\n",
              "      <td>720</td>\n",
              "      <td>Bincy Jacob needs your help today! Support fam...</td>\n",
              "      <td>29.563567</td>\n",
              "      <td>-95.286047</td>\n",
              "    </tr>\n",
              "    <tr>\n",
              "      <th>1150</th>\n",
              "      <td>https://www.gofundme.com/vote-for-our-lives-re...</td>\n",
              "      <td>Volunteer</td>\n",
              "      <td>17.0</td>\n",
              "      <td>Vote for Our Lives Redwood City</td>\n",
              "      <td>SAN CARLOS, CA</td>\n",
              "      <td>7500.0</td>\n",
              "      <td>10000</td>\n",
              "      <td>34</td>\n",
              "      <td>2 months</td>\n",
              "      <td>53</td>\n",
              "      <td>34</td>\n",
              "      <td>Jonathan Romanowsky needs your help today! Vot...</td>\n",
              "      <td>37.507159</td>\n",
              "      <td>-122.260522</td>\n",
              "    </tr>\n",
              "    <tr>\n",
              "      <th>340</th>\n",
              "      <td>https://www.gofundme.com/cannizzaro-children-e...</td>\n",
              "      <td>Education</td>\n",
              "      <td>15.0</td>\n",
              "      <td>Cannizzaro Children Education Fund</td>\n",
              "      <td>TOLLAND, CT</td>\n",
              "      <td>29148.0</td>\n",
              "      <td>40000</td>\n",
              "      <td>169</td>\n",
              "      <td>1 month</td>\n",
              "      <td>96</td>\n",
              "      <td>175</td>\n",
              "      <td>Patricia Cannizzaro needs your help today! Can...</td>\n",
              "      <td>41.871487</td>\n",
              "      <td>-72.368693</td>\n",
              "    </tr>\n",
              "    <tr>\n",
              "      <th>730</th>\n",
              "      <td>https://www.gofundme.com/sphinx-restoration-pr...</td>\n",
              "      <td>Event</td>\n",
              "      <td>21.0</td>\n",
              "      <td>Sphinx Restoration Project</td>\n",
              "      <td>BIRMINGHAM, AL</td>\n",
              "      <td>6105.0</td>\n",
              "      <td>6000</td>\n",
              "      <td>173</td>\n",
              "      <td>6 months</td>\n",
              "      <td>500</td>\n",
              "      <td>158</td>\n",
              "      <td>Rundgren Radio needs your help today! Sphinx R...</td>\n",
              "      <td>33.518589</td>\n",
              "      <td>-86.810357</td>\n",
              "    </tr>\n",
              "    <tr>\n",
              "      <th>66</th>\n",
              "      <td>https://www.gofundme.com/rob-ryan</td>\n",
              "      <td>Medical</td>\n",
              "      <td>22.0</td>\n",
              "      <td>Help Rob Ryan Beat Cancer!</td>\n",
              "      <td>LAKE SAINT LOUIS, MO</td>\n",
              "      <td>92970.0</td>\n",
              "      <td>75000</td>\n",
              "      <td>614</td>\n",
              "      <td>2 months</td>\n",
              "      <td>1.3k</td>\n",
              "      <td>614</td>\n",
              "      <td>Jennifer Ryan needs your help today! Help Rob ...</td>\n",
              "      <td>38.780938</td>\n",
              "      <td>-90.788360</td>\n",
              "    </tr>\n",
              "    <tr>\n",
              "      <th>128</th>\n",
              "      <td>https://www.gofundme.com/bereaving-inbaraj-ved...</td>\n",
              "      <td>Memorial</td>\n",
              "      <td>17.0</td>\n",
              "      <td>Bereaving Inbaraj Vedasagayam</td>\n",
              "      <td>EDISON, NJ</td>\n",
              "      <td>70852.0</td>\n",
              "      <td>75000</td>\n",
              "      <td>690</td>\n",
              "      <td>3 months</td>\n",
              "      <td>623</td>\n",
              "      <td>689</td>\n",
              "      <td>Gifta Lorraine Sundar Singh needs your help to...</td>\n",
              "      <td>40.518715</td>\n",
              "      <td>-74.412095</td>\n",
              "    </tr>\n",
              "  </tbody>\n",
              "</table>\n",
              "</div>\n",
              "      <button class=\"colab-df-convert\" onclick=\"convertToInteractive('df-e7c41fc5-7dfe-42cf-84f4-7e695b38284a')\"\n",
              "              title=\"Convert this dataframe to an interactive table.\"\n",
              "              style=\"display:none;\">\n",
              "        \n",
              "  <svg xmlns=\"http://www.w3.org/2000/svg\" height=\"24px\"viewBox=\"0 0 24 24\"\n",
              "       width=\"24px\">\n",
              "    <path d=\"M0 0h24v24H0V0z\" fill=\"none\"/>\n",
              "    <path d=\"M18.56 5.44l.94 2.06.94-2.06 2.06-.94-2.06-.94-.94-2.06-.94 2.06-2.06.94zm-11 1L8.5 8.5l.94-2.06 2.06-.94-2.06-.94L8.5 2.5l-.94 2.06-2.06.94zm10 10l.94 2.06.94-2.06 2.06-.94-2.06-.94-.94-2.06-.94 2.06-2.06.94z\"/><path d=\"M17.41 7.96l-1.37-1.37c-.4-.4-.92-.59-1.43-.59-.52 0-1.04.2-1.43.59L10.3 9.45l-7.72 7.72c-.78.78-.78 2.05 0 2.83L4 21.41c.39.39.9.59 1.41.59.51 0 1.02-.2 1.41-.59l7.78-7.78 2.81-2.81c.8-.78.8-2.07 0-2.86zM5.41 20L4 18.59l7.72-7.72 1.47 1.35L5.41 20z\"/>\n",
              "  </svg>\n",
              "      </button>\n",
              "      \n",
              "  <style>\n",
              "    .colab-df-container {\n",
              "      display:flex;\n",
              "      flex-wrap:wrap;\n",
              "      gap: 12px;\n",
              "    }\n",
              "\n",
              "    .colab-df-convert {\n",
              "      background-color: #E8F0FE;\n",
              "      border: none;\n",
              "      border-radius: 50%;\n",
              "      cursor: pointer;\n",
              "      display: none;\n",
              "      fill: #1967D2;\n",
              "      height: 32px;\n",
              "      padding: 0 0 0 0;\n",
              "      width: 32px;\n",
              "    }\n",
              "\n",
              "    .colab-df-convert:hover {\n",
              "      background-color: #E2EBFA;\n",
              "      box-shadow: 0px 1px 2px rgba(60, 64, 67, 0.3), 0px 1px 3px 1px rgba(60, 64, 67, 0.15);\n",
              "      fill: #174EA6;\n",
              "    }\n",
              "\n",
              "    [theme=dark] .colab-df-convert {\n",
              "      background-color: #3B4455;\n",
              "      fill: #D2E3FC;\n",
              "    }\n",
              "\n",
              "    [theme=dark] .colab-df-convert:hover {\n",
              "      background-color: #434B5C;\n",
              "      box-shadow: 0px 1px 3px 1px rgba(0, 0, 0, 0.15);\n",
              "      filter: drop-shadow(0px 1px 2px rgba(0, 0, 0, 0.3));\n",
              "      fill: #FFFFFF;\n",
              "    }\n",
              "  </style>\n",
              "\n",
              "      <script>\n",
              "        const buttonEl =\n",
              "          document.querySelector('#df-e7c41fc5-7dfe-42cf-84f4-7e695b38284a button.colab-df-convert');\n",
              "        buttonEl.style.display =\n",
              "          google.colab.kernel.accessAllowed ? 'block' : 'none';\n",
              "\n",
              "        async function convertToInteractive(key) {\n",
              "          const element = document.querySelector('#df-e7c41fc5-7dfe-42cf-84f4-7e695b38284a');\n",
              "          const dataTable =\n",
              "            await google.colab.kernel.invokeFunction('convertToInteractive',\n",
              "                                                     [key], {});\n",
              "          if (!dataTable) return;\n",
              "\n",
              "          const docLinkHtml = 'Like what you see? Visit the ' +\n",
              "            '<a target=\"_blank\" href=https://colab.research.google.com/notebooks/data_table.ipynb>data table notebook</a>'\n",
              "            + ' to learn more about interactive tables.';\n",
              "          element.innerHTML = '';\n",
              "          dataTable['output_type'] = 'display_data';\n",
              "          await google.colab.output.renderOutput(dataTable, element);\n",
              "          const docLink = document.createElement('div');\n",
              "          docLink.innerHTML = docLinkHtml;\n",
              "          element.appendChild(docLink);\n",
              "        }\n",
              "      </script>\n",
              "    </div>\n",
              "  </div>\n",
              "  "
            ]
          },
          "metadata": {},
          "execution_count": 8
        }
      ],
      "source": [
        "df.sample(10)"
      ]
    },
    {
      "cell_type": "code",
      "source": [
        "import nltk\n",
        "from nltk.corpus import stopwords\n",
        "from string import punctuation"
      ],
      "metadata": {
        "id": "kgcFtXXj2nOc"
      },
      "execution_count": null,
      "outputs": []
    },
    {
      "cell_type": "code",
      "source": [
        "# Download stopwords if not already downloaded\n",
        "nltk.download('stopwords')"
      ],
      "metadata": {
        "colab": {
          "base_uri": "https://localhost:8080/"
        },
        "id": "7i4xydwW2nQw",
        "outputId": "f0c22567-2d97-46d7-87bb-d96289c5fdbe"
      },
      "execution_count": null,
      "outputs": [
        {
          "output_type": "stream",
          "name": "stderr",
          "text": [
            "[nltk_data] Downloading package stopwords to /root/nltk_data...\n",
            "[nltk_data]   Unzipping corpora/stopwords.zip.\n"
          ]
        },
        {
          "output_type": "execute_result",
          "data": {
            "text/plain": [
              "True"
            ]
          },
          "metadata": {},
          "execution_count": 7
        }
      ]
    },
    {
      "cell_type": "code",
      "source": [
        "import nltk\n",
        "nltk.download('punkt')"
      ],
      "metadata": {
        "colab": {
          "base_uri": "https://localhost:8080/"
        },
        "id": "rLc1PIvU3EBa",
        "outputId": "9a084faf-f17e-4de6-a17e-e208b29c5256"
      },
      "execution_count": null,
      "outputs": [
        {
          "output_type": "stream",
          "name": "stderr",
          "text": [
            "[nltk_data] Downloading package punkt to /root/nltk_data...\n",
            "[nltk_data]   Unzipping tokenizers/punkt.zip.\n"
          ]
        },
        {
          "output_type": "execute_result",
          "data": {
            "text/plain": [
              "True"
            ]
          },
          "metadata": {},
          "execution_count": 8
        }
      ]
    },
    {
      "cell_type": "code",
      "source": [
        "# Define a function to remove symbols and stopwords from text\n",
        "def clean_text(text):\n",
        "    # Remove symbols\n",
        "    text = ''.join([c for c in text if c not in punctuation])\n",
        "\n",
        "    # Tokenize text into words\n",
        "    words = nltk.word_tokenize(text.lower())\n",
        "\n",
        "    # Remove stopwords\n",
        "    stop_words = set(stopwords.words('english'))\n",
        "    words = [word for word in words if word not in stop_words]\n",
        "\n",
        "    # Join the words back into a string\n",
        "    text = ' '.join(words)\n",
        "\n",
        "    return text\n",
        "\n",
        "# Apply the function to the 'Title' and 'Text' columns\n",
        "df['Title'] = df['Title'].apply(clean_text)\n",
        "df['Text'] = df['Text'].apply(clean_text)\n"
      ],
      "metadata": {
        "id": "ABqNBK7x2nTZ"
      },
      "execution_count": null,
      "outputs": []
    },
    {
      "cell_type": "markdown",
      "source": [
        "**Creating New Variables**"
      ],
      "metadata": {
        "id": "aayBeLIgCZLi"
      }
    },
    {
      "cell_type": "code",
      "execution_count": null,
      "metadata": {
        "colab": {
          "base_uri": "https://localhost:8080/"
        },
        "id": "gOL1x2ictYzb",
        "outputId": "5b3a5721-ddd6-483f-e65c-ec23443ec0da"
      },
      "outputs": [
        {
          "output_type": "stream",
          "name": "stderr",
          "text": [
            "[nltk_data] Downloading package punkt to /root/nltk_data...\n",
            "[nltk_data]   Unzipping tokenizers/punkt.zip.\n"
          ]
        },
        {
          "output_type": "execute_result",
          "data": {
            "text/plain": [
              "True"
            ]
          },
          "metadata": {},
          "execution_count": 9
        }
      ],
      "source": [
        "import nltk\n",
        "nltk.download('punkt')"
      ]
    },
    {
      "cell_type": "code",
      "execution_count": null,
      "metadata": {
        "id": "Id0VQ70yoYhF"
      },
      "outputs": [],
      "source": [
        "# Tokenize the 'Text' column into a list of words for each row\n",
        "df['Text'] = df['Text'].apply(word_tokenize)\n",
        "df['Title'] = df['Title'].apply(word_tokenize)\n"
      ]
    },
    {
      "cell_type": "code",
      "execution_count": null,
      "metadata": {
        "id": "flg9n0bBq7Hk"
      },
      "outputs": [],
      "source": [
        "# Apply the Porter stemming algorithm to each word in the 'Tokenized' column\n",
        "stemmer = PorterStemmer()\n",
        "df['Text'] = df['Text'].apply(lambda x: [stemmer.stem(word) for word in x])\n",
        "df['Title'] = df['Title'].apply(lambda x: [stemmer.stem(word) for word in x])"
      ]
    },
    {
      "cell_type": "code",
      "execution_count": null,
      "metadata": {
        "id": "VR2WMftiq7O9"
      },
      "outputs": [],
      "source": [
        "# Create a list of all unique stems that are at least 3 letters long\n",
        "unique_stems = set([stem for sublist in df['Text'] for stem in sublist if len(stem) >= 3])\n",
        "#unique_stems = set([stem for sublist in df['Title'] for stem in sublist if len(stem) >= 3])"
      ]
    },
    {
      "cell_type": "code",
      "execution_count": null,
      "metadata": {
        "id": "PSzBIdowq7Rv"
      },
      "outputs": [],
      "source": [
        "# Count the frequency of each stem in the dataset\n",
        "stem_counts = {}\n",
        "for stem in unique_stems:\n",
        "    stem_counts[stem] = sum([row.count(stem) for row in df['Text']])"
      ]
    },
    {
      "cell_type": "code",
      "execution_count": null,
      "metadata": {
        "id": "vXjAMLRGq7Tr"
      },
      "outputs": [],
      "source": [
        "# Sort the stems by frequency in descending order\n",
        "sorted_stems = sorted(stem_counts.items(), key=lambda x: x[1], reverse=True)"
      ]
    },
    {
      "cell_type": "code",
      "execution_count": null,
      "metadata": {
        "id": "g2-zkRgXq7Vl"
      },
      "outputs": [],
      "source": [
        "# Select the top N most frequent stems (e.g. N=1000)\n",
        "top_n_stems = [stem[0] for stem in sorted_stems[:1000]]"
      ]
    },
    {
      "cell_type": "code",
      "execution_count": null,
      "metadata": {
        "id": "TjS1lWjzq7ZH"
      },
      "outputs": [],
      "source": [
        "# Create a list of all bigrams in the dataset\n",
        "all_bigrams = []\n",
        "for row in df['Text']:\n",
        "    all_bigrams += nltk.bigrams(row)"
      ]
    },
    {
      "cell_type": "code",
      "execution_count": null,
      "metadata": {
        "id": "KPka1DraoYi-"
      },
      "outputs": [],
      "source": [
        "# Count the frequency of each bigram in the dataset\n",
        "bigram_counts = nltk.FreqDist(all_bigrams)"
      ]
    },
    {
      "cell_type": "code",
      "execution_count": null,
      "metadata": {
        "id": "BhrWLZ-3oYmg"
      },
      "outputs": [],
      "source": [
        "# Select the bigrams that appear in at least 400 Text\n",
        "top_bigrams = [bigram for bigram, count in bigram_counts.items() if count >= 400]"
      ]
    },
    {
      "cell_type": "code",
      "execution_count": null,
      "metadata": {
        "colab": {
          "base_uri": "https://localhost:8080/"
        },
        "id": "q6P9fxFhDhmG",
        "outputId": "68356df0-e2e6-46c0-d8dd-e7ec7dc963f7"
      },
      "outputs": [
        {
          "output_type": "stream",
          "name": "stdout",
          "text": [
            "Number of rows: 1242\n",
            "Number of unique stems: 9137\n",
            "Number of stems that appear at least once: 9137\n",
            "Number of stems selected for analysis: 1000\n",
            "Number of bigrams in dataset: 87227\n",
            "Number of bigrams selected for analysis: 4\n"
          ]
        }
      ],
      "source": [
        "# Print the results\n",
        "print(f\"Number of rows: {len(df)}\")\n",
        "print(f\"Number of unique stems: {len(unique_stems)}\")\n",
        "print(f\"Number of stems that appear at least once: {len(stem_counts)}\")\n",
        "print(f\"Number of stems selected for analysis: {len(top_n_stems)}\")\n",
        "print(f\"Number of bigrams in dataset: {len(all_bigrams)}\")\n",
        "print(f\"Number of bigrams selected for analysis: {len(top_bigrams)}\")"
      ]
    },
    {
      "cell_type": "code",
      "execution_count": null,
      "metadata": {
        "colab": {
          "base_uri": "https://localhost:8080/",
          "height": 773
        },
        "id": "5Cou7fYfIb39",
        "outputId": "1d2c92fa-2dad-4bd3-bf0c-5dfee07a3f8b"
      },
      "outputs": [
        {
          "output_type": "execute_result",
          "data": {
            "text/plain": [
              "                                                 Url Category  Position  \\\n",
              "0  https://www.gofundme.com/3ctqm-medical-bills-f...  Medical       0.0   \n",
              "1  https://www.gofundme.com/olivia-stoy-bone-marr...  Medical       0.0   \n",
              "2  https://www.gofundme.com/autologous-Tcell-Tran...  Medical       1.0   \n",
              "3       https://www.gofundme.com/a-chance-of-rebirth  Medical       1.0   \n",
              "4                https://www.gofundme.com/teamclaire  Medical       1.0   \n",
              "\n",
              "                                              Title           Location  \\\n",
              "0             [92, yr, old, man, brutal, attack, .]    LOS ANGELES, CA   \n",
              "1  [olivia, stoy, :, transplant, &, liv, it, up, !]         ASHLEY, IN   \n",
              "2                    [autolog, t, cell, transplant]  STATEN ISLAND, NY   \n",
              "3                           [a, chanc, of, rebirth]         DUBLIN, CA   \n",
              "4                [clair, wineland, need, our, help]   GARDEN GROVE, CA   \n",
              "\n",
              "   Amount_Raised    Goal Number_of_Donators Length_of_Fundraising FB_Shares  \\\n",
              "0       327345.0   15000              12167               1 month       26k   \n",
              "1       316261.0    1.0M               5598              3 months       12k   \n",
              "2       241125.0  250000                841              2 months      1.8k   \n",
              "3       237424.0  225000               4708               1 month      9.7k   \n",
              "4       236590.0  225000               8393              2 months      6.4k   \n",
              "\n",
              "  GFM_hearts                                               Text   Latitude  \\\n",
              "0        12k  [rodolfo, rodriguez, need, your, help, today, ...  34.052234   \n",
              "1       5.7k  [thoma, stoy, need, your, help, today, !, oliv...  41.527273   \n",
              "2        836  [philip, defont, need, your, help, today, !, a...  40.579532   \n",
              "3       4.7k  [sriram, kanniah, need, your, help, today, !, ...  37.702152   \n",
              "4       8.9k  [melissa, yeager, need, your, help, today, !, ...  33.774269   \n",
              "\n",
              "    Longitude  \n",
              "0 -118.243685  \n",
              "1  -85.065523  \n",
              "2  -74.150201  \n",
              "3 -121.935792  \n",
              "4 -117.937995  "
            ],
            "text/html": [
              "\n",
              "  <div id=\"df-2ab1967e-567b-478e-8ea7-63ec0756cef8\">\n",
              "    <div class=\"colab-df-container\">\n",
              "      <div>\n",
              "<style scoped>\n",
              "    .dataframe tbody tr th:only-of-type {\n",
              "        vertical-align: middle;\n",
              "    }\n",
              "\n",
              "    .dataframe tbody tr th {\n",
              "        vertical-align: top;\n",
              "    }\n",
              "\n",
              "    .dataframe thead th {\n",
              "        text-align: right;\n",
              "    }\n",
              "</style>\n",
              "<table border=\"1\" class=\"dataframe\">\n",
              "  <thead>\n",
              "    <tr style=\"text-align: right;\">\n",
              "      <th></th>\n",
              "      <th>Url</th>\n",
              "      <th>Category</th>\n",
              "      <th>Position</th>\n",
              "      <th>Title</th>\n",
              "      <th>Location</th>\n",
              "      <th>Amount_Raised</th>\n",
              "      <th>Goal</th>\n",
              "      <th>Number_of_Donators</th>\n",
              "      <th>Length_of_Fundraising</th>\n",
              "      <th>FB_Shares</th>\n",
              "      <th>GFM_hearts</th>\n",
              "      <th>Text</th>\n",
              "      <th>Latitude</th>\n",
              "      <th>Longitude</th>\n",
              "    </tr>\n",
              "  </thead>\n",
              "  <tbody>\n",
              "    <tr>\n",
              "      <th>0</th>\n",
              "      <td>https://www.gofundme.com/3ctqm-medical-bills-f...</td>\n",
              "      <td>Medical</td>\n",
              "      <td>0.0</td>\n",
              "      <td>[92, yr, old, man, brutal, attack, .]</td>\n",
              "      <td>LOS ANGELES, CA</td>\n",
              "      <td>327345.0</td>\n",
              "      <td>15000</td>\n",
              "      <td>12167</td>\n",
              "      <td>1 month</td>\n",
              "      <td>26k</td>\n",
              "      <td>12k</td>\n",
              "      <td>[rodolfo, rodriguez, need, your, help, today, ...</td>\n",
              "      <td>34.052234</td>\n",
              "      <td>-118.243685</td>\n",
              "    </tr>\n",
              "    <tr>\n",
              "      <th>1</th>\n",
              "      <td>https://www.gofundme.com/olivia-stoy-bone-marr...</td>\n",
              "      <td>Medical</td>\n",
              "      <td>0.0</td>\n",
              "      <td>[olivia, stoy, :, transplant, &amp;, liv, it, up, !]</td>\n",
              "      <td>ASHLEY, IN</td>\n",
              "      <td>316261.0</td>\n",
              "      <td>1.0M</td>\n",
              "      <td>5598</td>\n",
              "      <td>3 months</td>\n",
              "      <td>12k</td>\n",
              "      <td>5.7k</td>\n",
              "      <td>[thoma, stoy, need, your, help, today, !, oliv...</td>\n",
              "      <td>41.527273</td>\n",
              "      <td>-85.065523</td>\n",
              "    </tr>\n",
              "    <tr>\n",
              "      <th>2</th>\n",
              "      <td>https://www.gofundme.com/autologous-Tcell-Tran...</td>\n",
              "      <td>Medical</td>\n",
              "      <td>1.0</td>\n",
              "      <td>[autolog, t, cell, transplant]</td>\n",
              "      <td>STATEN ISLAND, NY</td>\n",
              "      <td>241125.0</td>\n",
              "      <td>250000</td>\n",
              "      <td>841</td>\n",
              "      <td>2 months</td>\n",
              "      <td>1.8k</td>\n",
              "      <td>836</td>\n",
              "      <td>[philip, defont, need, your, help, today, !, a...</td>\n",
              "      <td>40.579532</td>\n",
              "      <td>-74.150201</td>\n",
              "    </tr>\n",
              "    <tr>\n",
              "      <th>3</th>\n",
              "      <td>https://www.gofundme.com/a-chance-of-rebirth</td>\n",
              "      <td>Medical</td>\n",
              "      <td>1.0</td>\n",
              "      <td>[a, chanc, of, rebirth]</td>\n",
              "      <td>DUBLIN, CA</td>\n",
              "      <td>237424.0</td>\n",
              "      <td>225000</td>\n",
              "      <td>4708</td>\n",
              "      <td>1 month</td>\n",
              "      <td>9.7k</td>\n",
              "      <td>4.7k</td>\n",
              "      <td>[sriram, kanniah, need, your, help, today, !, ...</td>\n",
              "      <td>37.702152</td>\n",
              "      <td>-121.935792</td>\n",
              "    </tr>\n",
              "    <tr>\n",
              "      <th>4</th>\n",
              "      <td>https://www.gofundme.com/teamclaire</td>\n",
              "      <td>Medical</td>\n",
              "      <td>1.0</td>\n",
              "      <td>[clair, wineland, need, our, help]</td>\n",
              "      <td>GARDEN GROVE, CA</td>\n",
              "      <td>236590.0</td>\n",
              "      <td>225000</td>\n",
              "      <td>8393</td>\n",
              "      <td>2 months</td>\n",
              "      <td>6.4k</td>\n",
              "      <td>8.9k</td>\n",
              "      <td>[melissa, yeager, need, your, help, today, !, ...</td>\n",
              "      <td>33.774269</td>\n",
              "      <td>-117.937995</td>\n",
              "    </tr>\n",
              "  </tbody>\n",
              "</table>\n",
              "</div>\n",
              "      <button class=\"colab-df-convert\" onclick=\"convertToInteractive('df-2ab1967e-567b-478e-8ea7-63ec0756cef8')\"\n",
              "              title=\"Convert this dataframe to an interactive table.\"\n",
              "              style=\"display:none;\">\n",
              "        \n",
              "  <svg xmlns=\"http://www.w3.org/2000/svg\" height=\"24px\"viewBox=\"0 0 24 24\"\n",
              "       width=\"24px\">\n",
              "    <path d=\"M0 0h24v24H0V0z\" fill=\"none\"/>\n",
              "    <path d=\"M18.56 5.44l.94 2.06.94-2.06 2.06-.94-2.06-.94-.94-2.06-.94 2.06-2.06.94zm-11 1L8.5 8.5l.94-2.06 2.06-.94-2.06-.94L8.5 2.5l-.94 2.06-2.06.94zm10 10l.94 2.06.94-2.06 2.06-.94-2.06-.94-.94-2.06-.94 2.06-2.06.94z\"/><path d=\"M17.41 7.96l-1.37-1.37c-.4-.4-.92-.59-1.43-.59-.52 0-1.04.2-1.43.59L10.3 9.45l-7.72 7.72c-.78.78-.78 2.05 0 2.83L4 21.41c.39.39.9.59 1.41.59.51 0 1.02-.2 1.41-.59l7.78-7.78 2.81-2.81c.8-.78.8-2.07 0-2.86zM5.41 20L4 18.59l7.72-7.72 1.47 1.35L5.41 20z\"/>\n",
              "  </svg>\n",
              "      </button>\n",
              "      \n",
              "  <style>\n",
              "    .colab-df-container {\n",
              "      display:flex;\n",
              "      flex-wrap:wrap;\n",
              "      gap: 12px;\n",
              "    }\n",
              "\n",
              "    .colab-df-convert {\n",
              "      background-color: #E8F0FE;\n",
              "      border: none;\n",
              "      border-radius: 50%;\n",
              "      cursor: pointer;\n",
              "      display: none;\n",
              "      fill: #1967D2;\n",
              "      height: 32px;\n",
              "      padding: 0 0 0 0;\n",
              "      width: 32px;\n",
              "    }\n",
              "\n",
              "    .colab-df-convert:hover {\n",
              "      background-color: #E2EBFA;\n",
              "      box-shadow: 0px 1px 2px rgba(60, 64, 67, 0.3), 0px 1px 3px 1px rgba(60, 64, 67, 0.15);\n",
              "      fill: #174EA6;\n",
              "    }\n",
              "\n",
              "    [theme=dark] .colab-df-convert {\n",
              "      background-color: #3B4455;\n",
              "      fill: #D2E3FC;\n",
              "    }\n",
              "\n",
              "    [theme=dark] .colab-df-convert:hover {\n",
              "      background-color: #434B5C;\n",
              "      box-shadow: 0px 1px 3px 1px rgba(0, 0, 0, 0.15);\n",
              "      filter: drop-shadow(0px 1px 2px rgba(0, 0, 0, 0.3));\n",
              "      fill: #FFFFFF;\n",
              "    }\n",
              "  </style>\n",
              "\n",
              "      <script>\n",
              "        const buttonEl =\n",
              "          document.querySelector('#df-2ab1967e-567b-478e-8ea7-63ec0756cef8 button.colab-df-convert');\n",
              "        buttonEl.style.display =\n",
              "          google.colab.kernel.accessAllowed ? 'block' : 'none';\n",
              "\n",
              "        async function convertToInteractive(key) {\n",
              "          const element = document.querySelector('#df-2ab1967e-567b-478e-8ea7-63ec0756cef8');\n",
              "          const dataTable =\n",
              "            await google.colab.kernel.invokeFunction('convertToInteractive',\n",
              "                                                     [key], {});\n",
              "          if (!dataTable) return;\n",
              "\n",
              "          const docLinkHtml = 'Like what you see? Visit the ' +\n",
              "            '<a target=\"_blank\" href=https://colab.research.google.com/notebooks/data_table.ipynb>data table notebook</a>'\n",
              "            + ' to learn more about interactive tables.';\n",
              "          element.innerHTML = '';\n",
              "          dataTable['output_type'] = 'display_data';\n",
              "          await google.colab.output.renderOutput(dataTable, element);\n",
              "          const docLink = document.createElement('div');\n",
              "          docLink.innerHTML = docLinkHtml;\n",
              "          element.appendChild(docLink);\n",
              "        }\n",
              "      </script>\n",
              "    </div>\n",
              "  </div>\n",
              "  "
            ]
          },
          "metadata": {},
          "execution_count": 20
        }
      ],
      "source": [
        "df.head()"
      ]
    },
    {
      "cell_type": "code",
      "execution_count": null,
      "metadata": {
        "colab": {
          "base_uri": "https://localhost:8080/"
        },
        "id": "Hyaz_q3hIwyb",
        "outputId": "46656c28-e29a-4c3b-a6ac-71ca57aaafc5"
      },
      "outputs": [
        {
          "output_type": "stream",
          "name": "stdout",
          "text": [
            "['rodolfo', 'rodriguez', 'need', 'your', 'help', 'today', '!', '92', 'yr', 'old', 'man', 'brutal', 'attack', '.', '-', 'on', 'juli', '4th', 'at', 'around', '7pm', ',', 'my', 'grandfath', 'rodolfo', 'rodriguez', 'â', 'whose', '92', 'year', 'of', 'age', 'wa', 'go', 'for', 'hi', 'daili', 'walk', 'around', 'the', 'block', 'when', 'he', 'wa', 'assault', 'by', 'and', 'african', 'american', 'ladi', 'and', 'five', 'other', 'guy', '.', 'he', 'is', 'do', 'realli', 'bad', ',', 'ha', 'a', 'lot', 'of', 'bruis', 'on', 'hi', 'face', 'and', 'a', 'broken', 'cheekbon', '.', 'el', '4', 'de', 'julio', '...']\n"
          ]
        }
      ],
      "source": [
        "print(df.loc[0, 'Text'])"
      ]
    },
    {
      "cell_type": "markdown",
      "source": [
        "**1. length of strings**"
      ],
      "metadata": {
        "id": "Az8WDQaqCsdN"
      }
    },
    {
      "cell_type": "code",
      "execution_count": null,
      "metadata": {
        "id": "4lqcdkSRDhqg"
      },
      "outputs": [],
      "source": [
        "# Define a function to calculate the length of a string\n",
        "def get_length(string):\n",
        "    return len(string)\n"
      ]
    },
    {
      "cell_type": "code",
      "execution_count": null,
      "metadata": {
        "id": "Ai6bNSL3FMd-"
      },
      "outputs": [],
      "source": [
        "# Add a new column for the length of the 'Title' column\n",
        "df['Title_Length'] = df['Title'].apply(get_length)"
      ]
    },
    {
      "cell_type": "code",
      "execution_count": null,
      "metadata": {
        "id": "AHh3hJOgFMg-"
      },
      "outputs": [],
      "source": [
        "# Add a new column for the length of the 'Text' column\n",
        "df['Text_Length'] = df['Text'].apply(get_length)"
      ]
    },
    {
      "cell_type": "code",
      "execution_count": null,
      "metadata": {
        "id": "Iah_X3Q5Swkd"
      },
      "outputs": [],
      "source": [
        "def collapse(L):\n",
        "    L1 = []\n",
        "    for i in L:\n",
        "        L1.append(i.replace(\" \",\"\"))\n",
        "    return L1"
      ]
    },
    {
      "cell_type": "code",
      "execution_count": null,
      "metadata": {
        "id": "9c5kQ-BrS0iD"
      },
      "outputs": [],
      "source": [
        "df['Text'] = df['Text'].apply(collapse)\n",
        "df['Title'] = df['Title'].apply(collapse)"
      ]
    },
    {
      "cell_type": "code",
      "execution_count": null,
      "metadata": {
        "id": "ihXV1DhhTMAj"
      },
      "outputs": [],
      "source": [
        "df['Text'] = df['Text'].apply(lambda x: \" \".join(x))"
      ]
    },
    {
      "cell_type": "markdown",
      "source": [
        "**2. % of long words (6+ letters)**"
      ],
      "metadata": {
        "id": "K2-nOCWbC0If"
      }
    },
    {
      "cell_type": "code",
      "execution_count": null,
      "metadata": {
        "id": "lDLfFiwD0Vcf"
      },
      "outputs": [],
      "source": [
        "import re"
      ]
    },
    {
      "cell_type": "code",
      "execution_count": null,
      "metadata": {
        "id": "5nakQvfODhxO"
      },
      "outputs": [],
      "source": [
        "def get_perc_words_six_or_more_letters(text):\n",
        "    words_six_or_more_letters = re.findall(r'\\b\\w{6,}\\b', text)\n",
        "    # Check if there are any words in the text\n",
        "    if len(text.split()) == 0:\n",
        "        return 0\n",
        "    # Calculate the percentage of words with six or more letters\n",
        "    perc_words_six_or_more_letters = len(words_six_or_more_letters) / len(text.split()) * 100\n",
        "    return perc_words_six_or_more_letters\n"
      ]
    },
    {
      "cell_type": "code",
      "execution_count": null,
      "metadata": {
        "id": "Z9nRj4ObDh0i"
      },
      "outputs": [],
      "source": [
        "df['Perc_long_words'] = df['Text'].apply(get_perc_words_six_or_more_letters)\n"
      ]
    },
    {
      "cell_type": "code",
      "execution_count": null,
      "metadata": {
        "id": "ijKfkDzJUKRQ",
        "colab": {
          "base_uri": "https://localhost:8080/",
          "height": 738
        },
        "outputId": "e4852601-099c-482e-a5f7-7eba75fe74db"
      },
      "outputs": [
        {
          "output_type": "execute_result",
          "data": {
            "text/plain": [
              "                                                 Url Category  Position  \\\n",
              "0  https://www.gofundme.com/3ctqm-medical-bills-f...  Medical       0.0   \n",
              "1  https://www.gofundme.com/olivia-stoy-bone-marr...  Medical       0.0   \n",
              "2  https://www.gofundme.com/autologous-Tcell-Tran...  Medical       1.0   \n",
              "3       https://www.gofundme.com/a-chance-of-rebirth  Medical       1.0   \n",
              "4                https://www.gofundme.com/teamclaire  Medical       1.0   \n",
              "\n",
              "                                              Title           Location  \\\n",
              "0             [92, yr, old, man, brutal, attack, .]    LOS ANGELES, CA   \n",
              "1  [olivia, stoy, :, transplant, &, liv, it, up, !]         ASHLEY, IN   \n",
              "2                    [autolog, t, cell, transplant]  STATEN ISLAND, NY   \n",
              "3                           [a, chanc, of, rebirth]         DUBLIN, CA   \n",
              "4                [clair, wineland, need, our, help]   GARDEN GROVE, CA   \n",
              "\n",
              "   Amount_Raised    Goal Number_of_Donators Length_of_Fundraising FB_Shares  \\\n",
              "0       327345.0   15000              12167               1 month       26k   \n",
              "1       316261.0    1.0M               5598              3 months       12k   \n",
              "2       241125.0  250000                841              2 months      1.8k   \n",
              "3       237424.0  225000               4708               1 month      9.7k   \n",
              "4       236590.0  225000               8393              2 months      6.4k   \n",
              "\n",
              "  GFM_hearts                                               Text   Latitude  \\\n",
              "0        12k  rodolfo rodriguez need your help today ! 92 yr...  34.052234   \n",
              "1       5.7k  thoma stoy need your help today ! olivia stoy ...  41.527273   \n",
              "2        836  philip defont need your help today ! autolog t...  40.579532   \n",
              "3       4.7k  sriram kanniah need your help today ! a chanc ...  37.702152   \n",
              "4       8.9k  melissa yeager need your help today ! clair wi...  33.774269   \n",
              "\n",
              "    Longitude  Title_Length  Text_Length  Perc_long_words  \n",
              "0 -118.243685             7           79        18.987342  \n",
              "1  -85.065523             9           76        13.157895  \n",
              "2  -74.150201             4           70        24.285714  \n",
              "3 -121.935792             4           76        11.842105  \n",
              "4 -117.937995             5           72        18.055556  "
            ],
            "text/html": [
              "\n",
              "  <div id=\"df-792f343b-7ae7-4bde-a685-3e72ac354ef2\">\n",
              "    <div class=\"colab-df-container\">\n",
              "      <div>\n",
              "<style scoped>\n",
              "    .dataframe tbody tr th:only-of-type {\n",
              "        vertical-align: middle;\n",
              "    }\n",
              "\n",
              "    .dataframe tbody tr th {\n",
              "        vertical-align: top;\n",
              "    }\n",
              "\n",
              "    .dataframe thead th {\n",
              "        text-align: right;\n",
              "    }\n",
              "</style>\n",
              "<table border=\"1\" class=\"dataframe\">\n",
              "  <thead>\n",
              "    <tr style=\"text-align: right;\">\n",
              "      <th></th>\n",
              "      <th>Url</th>\n",
              "      <th>Category</th>\n",
              "      <th>Position</th>\n",
              "      <th>Title</th>\n",
              "      <th>Location</th>\n",
              "      <th>Amount_Raised</th>\n",
              "      <th>Goal</th>\n",
              "      <th>Number_of_Donators</th>\n",
              "      <th>Length_of_Fundraising</th>\n",
              "      <th>FB_Shares</th>\n",
              "      <th>GFM_hearts</th>\n",
              "      <th>Text</th>\n",
              "      <th>Latitude</th>\n",
              "      <th>Longitude</th>\n",
              "      <th>Title_Length</th>\n",
              "      <th>Text_Length</th>\n",
              "      <th>Perc_long_words</th>\n",
              "    </tr>\n",
              "  </thead>\n",
              "  <tbody>\n",
              "    <tr>\n",
              "      <th>0</th>\n",
              "      <td>https://www.gofundme.com/3ctqm-medical-bills-f...</td>\n",
              "      <td>Medical</td>\n",
              "      <td>0.0</td>\n",
              "      <td>[92, yr, old, man, brutal, attack, .]</td>\n",
              "      <td>LOS ANGELES, CA</td>\n",
              "      <td>327345.0</td>\n",
              "      <td>15000</td>\n",
              "      <td>12167</td>\n",
              "      <td>1 month</td>\n",
              "      <td>26k</td>\n",
              "      <td>12k</td>\n",
              "      <td>rodolfo rodriguez need your help today ! 92 yr...</td>\n",
              "      <td>34.052234</td>\n",
              "      <td>-118.243685</td>\n",
              "      <td>7</td>\n",
              "      <td>79</td>\n",
              "      <td>18.987342</td>\n",
              "    </tr>\n",
              "    <tr>\n",
              "      <th>1</th>\n",
              "      <td>https://www.gofundme.com/olivia-stoy-bone-marr...</td>\n",
              "      <td>Medical</td>\n",
              "      <td>0.0</td>\n",
              "      <td>[olivia, stoy, :, transplant, &amp;, liv, it, up, !]</td>\n",
              "      <td>ASHLEY, IN</td>\n",
              "      <td>316261.0</td>\n",
              "      <td>1.0M</td>\n",
              "      <td>5598</td>\n",
              "      <td>3 months</td>\n",
              "      <td>12k</td>\n",
              "      <td>5.7k</td>\n",
              "      <td>thoma stoy need your help today ! olivia stoy ...</td>\n",
              "      <td>41.527273</td>\n",
              "      <td>-85.065523</td>\n",
              "      <td>9</td>\n",
              "      <td>76</td>\n",
              "      <td>13.157895</td>\n",
              "    </tr>\n",
              "    <tr>\n",
              "      <th>2</th>\n",
              "      <td>https://www.gofundme.com/autologous-Tcell-Tran...</td>\n",
              "      <td>Medical</td>\n",
              "      <td>1.0</td>\n",
              "      <td>[autolog, t, cell, transplant]</td>\n",
              "      <td>STATEN ISLAND, NY</td>\n",
              "      <td>241125.0</td>\n",
              "      <td>250000</td>\n",
              "      <td>841</td>\n",
              "      <td>2 months</td>\n",
              "      <td>1.8k</td>\n",
              "      <td>836</td>\n",
              "      <td>philip defont need your help today ! autolog t...</td>\n",
              "      <td>40.579532</td>\n",
              "      <td>-74.150201</td>\n",
              "      <td>4</td>\n",
              "      <td>70</td>\n",
              "      <td>24.285714</td>\n",
              "    </tr>\n",
              "    <tr>\n",
              "      <th>3</th>\n",
              "      <td>https://www.gofundme.com/a-chance-of-rebirth</td>\n",
              "      <td>Medical</td>\n",
              "      <td>1.0</td>\n",
              "      <td>[a, chanc, of, rebirth]</td>\n",
              "      <td>DUBLIN, CA</td>\n",
              "      <td>237424.0</td>\n",
              "      <td>225000</td>\n",
              "      <td>4708</td>\n",
              "      <td>1 month</td>\n",
              "      <td>9.7k</td>\n",
              "      <td>4.7k</td>\n",
              "      <td>sriram kanniah need your help today ! a chanc ...</td>\n",
              "      <td>37.702152</td>\n",
              "      <td>-121.935792</td>\n",
              "      <td>4</td>\n",
              "      <td>76</td>\n",
              "      <td>11.842105</td>\n",
              "    </tr>\n",
              "    <tr>\n",
              "      <th>4</th>\n",
              "      <td>https://www.gofundme.com/teamclaire</td>\n",
              "      <td>Medical</td>\n",
              "      <td>1.0</td>\n",
              "      <td>[clair, wineland, need, our, help]</td>\n",
              "      <td>GARDEN GROVE, CA</td>\n",
              "      <td>236590.0</td>\n",
              "      <td>225000</td>\n",
              "      <td>8393</td>\n",
              "      <td>2 months</td>\n",
              "      <td>6.4k</td>\n",
              "      <td>8.9k</td>\n",
              "      <td>melissa yeager need your help today ! clair wi...</td>\n",
              "      <td>33.774269</td>\n",
              "      <td>-117.937995</td>\n",
              "      <td>5</td>\n",
              "      <td>72</td>\n",
              "      <td>18.055556</td>\n",
              "    </tr>\n",
              "  </tbody>\n",
              "</table>\n",
              "</div>\n",
              "      <button class=\"colab-df-convert\" onclick=\"convertToInteractive('df-792f343b-7ae7-4bde-a685-3e72ac354ef2')\"\n",
              "              title=\"Convert this dataframe to an interactive table.\"\n",
              "              style=\"display:none;\">\n",
              "        \n",
              "  <svg xmlns=\"http://www.w3.org/2000/svg\" height=\"24px\"viewBox=\"0 0 24 24\"\n",
              "       width=\"24px\">\n",
              "    <path d=\"M0 0h24v24H0V0z\" fill=\"none\"/>\n",
              "    <path d=\"M18.56 5.44l.94 2.06.94-2.06 2.06-.94-2.06-.94-.94-2.06-.94 2.06-2.06.94zm-11 1L8.5 8.5l.94-2.06 2.06-.94-2.06-.94L8.5 2.5l-.94 2.06-2.06.94zm10 10l.94 2.06.94-2.06 2.06-.94-2.06-.94-.94-2.06-.94 2.06-2.06.94z\"/><path d=\"M17.41 7.96l-1.37-1.37c-.4-.4-.92-.59-1.43-.59-.52 0-1.04.2-1.43.59L10.3 9.45l-7.72 7.72c-.78.78-.78 2.05 0 2.83L4 21.41c.39.39.9.59 1.41.59.51 0 1.02-.2 1.41-.59l7.78-7.78 2.81-2.81c.8-.78.8-2.07 0-2.86zM5.41 20L4 18.59l7.72-7.72 1.47 1.35L5.41 20z\"/>\n",
              "  </svg>\n",
              "      </button>\n",
              "      \n",
              "  <style>\n",
              "    .colab-df-container {\n",
              "      display:flex;\n",
              "      flex-wrap:wrap;\n",
              "      gap: 12px;\n",
              "    }\n",
              "\n",
              "    .colab-df-convert {\n",
              "      background-color: #E8F0FE;\n",
              "      border: none;\n",
              "      border-radius: 50%;\n",
              "      cursor: pointer;\n",
              "      display: none;\n",
              "      fill: #1967D2;\n",
              "      height: 32px;\n",
              "      padding: 0 0 0 0;\n",
              "      width: 32px;\n",
              "    }\n",
              "\n",
              "    .colab-df-convert:hover {\n",
              "      background-color: #E2EBFA;\n",
              "      box-shadow: 0px 1px 2px rgba(60, 64, 67, 0.3), 0px 1px 3px 1px rgba(60, 64, 67, 0.15);\n",
              "      fill: #174EA6;\n",
              "    }\n",
              "\n",
              "    [theme=dark] .colab-df-convert {\n",
              "      background-color: #3B4455;\n",
              "      fill: #D2E3FC;\n",
              "    }\n",
              "\n",
              "    [theme=dark] .colab-df-convert:hover {\n",
              "      background-color: #434B5C;\n",
              "      box-shadow: 0px 1px 3px 1px rgba(0, 0, 0, 0.15);\n",
              "      filter: drop-shadow(0px 1px 2px rgba(0, 0, 0, 0.3));\n",
              "      fill: #FFFFFF;\n",
              "    }\n",
              "  </style>\n",
              "\n",
              "      <script>\n",
              "        const buttonEl =\n",
              "          document.querySelector('#df-792f343b-7ae7-4bde-a685-3e72ac354ef2 button.colab-df-convert');\n",
              "        buttonEl.style.display =\n",
              "          google.colab.kernel.accessAllowed ? 'block' : 'none';\n",
              "\n",
              "        async function convertToInteractive(key) {\n",
              "          const element = document.querySelector('#df-792f343b-7ae7-4bde-a685-3e72ac354ef2');\n",
              "          const dataTable =\n",
              "            await google.colab.kernel.invokeFunction('convertToInteractive',\n",
              "                                                     [key], {});\n",
              "          if (!dataTable) return;\n",
              "\n",
              "          const docLinkHtml = 'Like what you see? Visit the ' +\n",
              "            '<a target=\"_blank\" href=https://colab.research.google.com/notebooks/data_table.ipynb>data table notebook</a>'\n",
              "            + ' to learn more about interactive tables.';\n",
              "          element.innerHTML = '';\n",
              "          dataTable['output_type'] = 'display_data';\n",
              "          await google.colab.output.renderOutput(dataTable, element);\n",
              "          const docLink = document.createElement('div');\n",
              "          docLink.innerHTML = docLinkHtml;\n",
              "          element.appendChild(docLink);\n",
              "        }\n",
              "      </script>\n",
              "    </div>\n",
              "  </div>\n",
              "  "
            ]
          },
          "metadata": {},
          "execution_count": 31
        }
      ],
      "source": [
        "df.head()"
      ]
    },
    {
      "cell_type": "markdown",
      "source": [
        "**The “simple measure of gobbledygook” (SMOG;\n",
        "McLaughlin, 1969). This measures writing quality by\n",
        "mapping it to number of years of formal education\n",
        "needed to easily understand the text in first reading what it means**"
      ],
      "metadata": {
        "id": "jy3zMw7zD5Fc"
      }
    },
    {
      "cell_type": "code",
      "execution_count": null,
      "metadata": {
        "id": "CRojHe-yUKW4"
      },
      "outputs": [],
      "source": [
        "from nltk.tokenize import word_tokenize, sent_tokenize\n",
        "from nltk.stem import WordNetLemmatizer"
      ]
    },
    {
      "cell_type": "code",
      "source": [
        "import nltk\n",
        "nltk.download('cmudict')"
      ],
      "metadata": {
        "colab": {
          "base_uri": "https://localhost:8080/"
        },
        "id": "W46IjnEZ7LX-",
        "outputId": "47ccf2ac-aa75-43de-8ccf-6f1a60bf03a6"
      },
      "execution_count": null,
      "outputs": [
        {
          "output_type": "stream",
          "name": "stderr",
          "text": [
            "[nltk_data] Downloading package cmudict to /root/nltk_data...\n",
            "[nltk_data]   Unzipping corpora/cmudict.zip.\n"
          ]
        },
        {
          "output_type": "execute_result",
          "data": {
            "text/plain": [
              "True"
            ]
          },
          "metadata": {},
          "execution_count": 29
        }
      ]
    },
    {
      "cell_type": "code",
      "source": [
        "from nltk.tokenize import word_tokenize, sent_tokenize\n",
        "from nltk.stem import WordNetLemmatizer\n",
        "from nltk.corpus import stopwords\n",
        "\n",
        "def get_smog_index(text):\n",
        "    stop_words = set(stopwords.words('english'))\n",
        "    # Tokenize the text into words and sentences\n",
        "    words = word_tokenize(text)\n",
        "    sentences = sent_tokenize(text)\n",
        "\n",
        "    # Lemmatize the words\n",
        "    lemmatizer = WordNetLemmatizer()\n",
        "    words_lemmatized = [lemmatizer.lemmatize(word) for word in words]\n",
        "\n",
        "    # Count the number of words with 3 or more syllables\n",
        "    polysyllable_words = []\n",
        "    for word in words_lemmatized:\n",
        "        try:\n",
        "            if len(nltk.corpus.cmudict.dict()[word.lower()][0]) >= 3:\n",
        "                polysyllable_words.append(word)\n",
        "        except KeyError:\n",
        "            continue\n",
        "    num_polysyllable_words = len(polysyllable_words)\n",
        "\n",
        "    # Calculate the SMOG index\n",
        "    smog_index = 1.043 * (30 * (num_polysyllable_words / len(sentences)) ** 0.5 + 3.1291)\n",
        "    return smog_index\n"
      ],
      "metadata": {
        "id": "YomsGm1O7g3-"
      },
      "execution_count": null,
      "outputs": []
    },
    {
      "cell_type": "code",
      "execution_count": null,
      "metadata": {
        "colab": {
          "base_uri": "https://localhost:8080/"
        },
        "id": "5Bzk27tLVx4Z",
        "outputId": "40c6377c-9c34-4790-a192-6a3604f8970c"
      },
      "outputs": [
        {
          "output_type": "stream",
          "name": "stderr",
          "text": [
            "[nltk_data] Downloading package wordnet to /root/nltk_data...\n"
          ]
        },
        {
          "output_type": "execute_result",
          "data": {
            "text/plain": [
              "True"
            ]
          },
          "metadata": {},
          "execution_count": 21
        }
      ],
      "source": [
        "import nltk\n",
        "nltk.download('wordnet')"
      ]
    },
    {
      "cell_type": "code",
      "execution_count": null,
      "metadata": {
        "colab": {
          "base_uri": "https://localhost:8080/"
        },
        "id": "XC4glqEEV5z1",
        "outputId": "533fe82e-ac9c-4c9d-d472-ff9e7b0f5575"
      },
      "outputs": [
        {
          "output_type": "stream",
          "name": "stderr",
          "text": [
            "[nltk_data] Downloading package cmudict to /root/nltk_data...\n",
            "[nltk_data]   Unzipping corpora/cmudict.zip.\n"
          ]
        },
        {
          "output_type": "execute_result",
          "data": {
            "text/plain": [
              "True"
            ]
          },
          "metadata": {},
          "execution_count": 35
        }
      ],
      "source": [
        "import nltk\n",
        "nltk.download('cmudict')"
      ]
    },
    {
      "cell_type": "code",
      "execution_count": null,
      "metadata": {
        "id": "M8JY-1-kVmQl",
        "colab": {
          "base_uri": "https://localhost:8080/"
        },
        "outputId": "6a357cea-3f73-4ab1-f604-edf14917ecaa"
      },
      "outputs": [
        {
          "output_type": "stream",
          "name": "stdout",
          "text": [
            "Looking in indexes: https://pypi.org/simple, https://us-python.pkg.dev/colab-wheels/public/simple/\n",
            "Collecting pyenchant\n",
            "  Downloading pyenchant-3.2.2-py3-none-any.whl (55 kB)\n",
            "\u001b[2K     \u001b[90m━━━━━━━━━━━━━━━━━━━━━━━━━━━━━━━━━━━━━━━━\u001b[0m \u001b[32m55.7/55.7 kB\u001b[0m \u001b[31m4.8 MB/s\u001b[0m eta \u001b[36m0:00:00\u001b[0m\n",
            "\u001b[?25hInstalling collected packages: pyenchant\n",
            "Successfully installed pyenchant-3.2.2\n"
          ]
        }
      ],
      "source": [
        "!pip install pyenchant"
      ]
    },
    {
      "cell_type": "markdown",
      "source": [
        "**A count of spelling mistakes.**"
      ],
      "metadata": {
        "id": "zwOgMJXjD-6z"
      }
    },
    {
      "cell_type": "code",
      "execution_count": null,
      "metadata": {
        "colab": {
          "base_uri": "https://localhost:8080/"
        },
        "id": "WydVr0Vsm86Q",
        "outputId": "6c6f8bcc-9421-4922-db06-d1b55ecb43c8"
      },
      "outputs": [
        {
          "output_type": "stream",
          "name": "stderr",
          "text": [
            "[nltk_data] Downloading package words to /root/nltk_data...\n",
            "[nltk_data]   Unzipping corpora/words.zip.\n"
          ]
        },
        {
          "output_type": "execute_result",
          "data": {
            "text/plain": [
              "True"
            ]
          },
          "metadata": {},
          "execution_count": 22
        }
      ],
      "source": [
        "import nltk\n",
        "nltk.download('words')"
      ]
    },
    {
      "cell_type": "code",
      "execution_count": null,
      "metadata": {
        "id": "b_bMuKMVm88l"
      },
      "outputs": [],
      "source": [
        "# Load the list of English words\n",
        "words = set(nltk.corpus.words.words())"
      ]
    },
    {
      "cell_type": "code",
      "execution_count": null,
      "metadata": {
        "id": "f_qURNTlm8_V"
      },
      "outputs": [],
      "source": [
        "# Define a function to count the number of misspelled words in a text string\n",
        "def count_misspelled_words(text):\n",
        "    # Split the text into words\n",
        "    words_in_text = text.split()\n",
        "\n",
        "    # Count the number of misspelled words\n",
        "    num_misspelled_words = 0\n",
        "    for word in words_in_text:\n",
        "        if word.lower() not in words:\n",
        "            num_misspelled_words += 1\n",
        "\n",
        "    return num_misspelled_words"
      ]
    },
    {
      "cell_type": "code",
      "execution_count": null,
      "metadata": {
        "id": "wx4RC2yQm9Bo"
      },
      "outputs": [],
      "source": [
        "# Apply the function to the 'Text' column and create a new 'Misspelled_words' column\n",
        "df['Misspelled_words'] = df['Text'].apply(count_misspelled_words)"
      ]
    },
    {
      "cell_type": "code",
      "execution_count": null,
      "metadata": {
        "id": "WLiBenf9m9EZ",
        "colab": {
          "base_uri": "https://localhost:8080/",
          "height": 738
        },
        "outputId": "c14d5352-5e43-4449-ef72-34d748158569"
      },
      "outputs": [
        {
          "output_type": "execute_result",
          "data": {
            "text/plain": [
              "                                                 Url Category  Position  \\\n",
              "0  https://www.gofundme.com/3ctqm-medical-bills-f...  Medical       0.0   \n",
              "1  https://www.gofundme.com/olivia-stoy-bone-marr...  Medical       0.0   \n",
              "2  https://www.gofundme.com/autologous-Tcell-Tran...  Medical       1.0   \n",
              "3       https://www.gofundme.com/a-chance-of-rebirth  Medical       1.0   \n",
              "4                https://www.gofundme.com/teamclaire  Medical       1.0   \n",
              "\n",
              "                                              Title           Location  \\\n",
              "0             [92, yr, old, man, brutal, attack, .]    LOS ANGELES, CA   \n",
              "1  [olivia, stoy, :, transplant, &, liv, it, up, !]         ASHLEY, IN   \n",
              "2                    [autolog, t, cell, transplant]  STATEN ISLAND, NY   \n",
              "3                           [a, chanc, of, rebirth]         DUBLIN, CA   \n",
              "4                [clair, wineland, need, our, help]   GARDEN GROVE, CA   \n",
              "\n",
              "   Amount_Raised    Goal Number_of_Donators Length_of_Fundraising FB_Shares  \\\n",
              "0       327345.0   15000              12167               1 month       26k   \n",
              "1       316261.0    1.0M               5598              3 months       12k   \n",
              "2       241125.0  250000                841              2 months      1.8k   \n",
              "3       237424.0  225000               4708               1 month      9.7k   \n",
              "4       236590.0  225000               8393              2 months      6.4k   \n",
              "\n",
              "  GFM_hearts                                               Text   Latitude  \\\n",
              "0        12k  rodolfo rodriguez need your help today ! 92 yr...  34.052234   \n",
              "1       5.7k  thoma stoy need your help today ! olivia stoy ...  41.527273   \n",
              "2        836  philip defont need your help today ! autolog t...  40.579532   \n",
              "3       4.7k  sriram kanniah need your help today ! a chanc ...  37.702152   \n",
              "4       8.9k  melissa yeager need your help today ! clair wi...  33.774269   \n",
              "\n",
              "    Longitude  Title_Length  Text_Length  Perc_long_words  Misspelled_words  \n",
              "0 -118.243685             7           79        18.987342                27  \n",
              "1  -85.065523             9           76        13.157895                31  \n",
              "2  -74.150201             4           70        24.285714                29  \n",
              "3 -121.935792             4           76        11.842105                19  \n",
              "4 -117.937995             5           72        18.055556                21  "
            ],
            "text/html": [
              "\n",
              "  <div id=\"df-b0bdf32e-cfba-4378-beed-aeb85f2fc9d7\">\n",
              "    <div class=\"colab-df-container\">\n",
              "      <div>\n",
              "<style scoped>\n",
              "    .dataframe tbody tr th:only-of-type {\n",
              "        vertical-align: middle;\n",
              "    }\n",
              "\n",
              "    .dataframe tbody tr th {\n",
              "        vertical-align: top;\n",
              "    }\n",
              "\n",
              "    .dataframe thead th {\n",
              "        text-align: right;\n",
              "    }\n",
              "</style>\n",
              "<table border=\"1\" class=\"dataframe\">\n",
              "  <thead>\n",
              "    <tr style=\"text-align: right;\">\n",
              "      <th></th>\n",
              "      <th>Url</th>\n",
              "      <th>Category</th>\n",
              "      <th>Position</th>\n",
              "      <th>Title</th>\n",
              "      <th>Location</th>\n",
              "      <th>Amount_Raised</th>\n",
              "      <th>Goal</th>\n",
              "      <th>Number_of_Donators</th>\n",
              "      <th>Length_of_Fundraising</th>\n",
              "      <th>FB_Shares</th>\n",
              "      <th>GFM_hearts</th>\n",
              "      <th>Text</th>\n",
              "      <th>Latitude</th>\n",
              "      <th>Longitude</th>\n",
              "      <th>Title_Length</th>\n",
              "      <th>Text_Length</th>\n",
              "      <th>Perc_long_words</th>\n",
              "      <th>Misspelled_words</th>\n",
              "    </tr>\n",
              "  </thead>\n",
              "  <tbody>\n",
              "    <tr>\n",
              "      <th>0</th>\n",
              "      <td>https://www.gofundme.com/3ctqm-medical-bills-f...</td>\n",
              "      <td>Medical</td>\n",
              "      <td>0.0</td>\n",
              "      <td>[92, yr, old, man, brutal, attack, .]</td>\n",
              "      <td>LOS ANGELES, CA</td>\n",
              "      <td>327345.0</td>\n",
              "      <td>15000</td>\n",
              "      <td>12167</td>\n",
              "      <td>1 month</td>\n",
              "      <td>26k</td>\n",
              "      <td>12k</td>\n",
              "      <td>rodolfo rodriguez need your help today ! 92 yr...</td>\n",
              "      <td>34.052234</td>\n",
              "      <td>-118.243685</td>\n",
              "      <td>7</td>\n",
              "      <td>79</td>\n",
              "      <td>18.987342</td>\n",
              "      <td>27</td>\n",
              "    </tr>\n",
              "    <tr>\n",
              "      <th>1</th>\n",
              "      <td>https://www.gofundme.com/olivia-stoy-bone-marr...</td>\n",
              "      <td>Medical</td>\n",
              "      <td>0.0</td>\n",
              "      <td>[olivia, stoy, :, transplant, &amp;, liv, it, up, !]</td>\n",
              "      <td>ASHLEY, IN</td>\n",
              "      <td>316261.0</td>\n",
              "      <td>1.0M</td>\n",
              "      <td>5598</td>\n",
              "      <td>3 months</td>\n",
              "      <td>12k</td>\n",
              "      <td>5.7k</td>\n",
              "      <td>thoma stoy need your help today ! olivia stoy ...</td>\n",
              "      <td>41.527273</td>\n",
              "      <td>-85.065523</td>\n",
              "      <td>9</td>\n",
              "      <td>76</td>\n",
              "      <td>13.157895</td>\n",
              "      <td>31</td>\n",
              "    </tr>\n",
              "    <tr>\n",
              "      <th>2</th>\n",
              "      <td>https://www.gofundme.com/autologous-Tcell-Tran...</td>\n",
              "      <td>Medical</td>\n",
              "      <td>1.0</td>\n",
              "      <td>[autolog, t, cell, transplant]</td>\n",
              "      <td>STATEN ISLAND, NY</td>\n",
              "      <td>241125.0</td>\n",
              "      <td>250000</td>\n",
              "      <td>841</td>\n",
              "      <td>2 months</td>\n",
              "      <td>1.8k</td>\n",
              "      <td>836</td>\n",
              "      <td>philip defont need your help today ! autolog t...</td>\n",
              "      <td>40.579532</td>\n",
              "      <td>-74.150201</td>\n",
              "      <td>4</td>\n",
              "      <td>70</td>\n",
              "      <td>24.285714</td>\n",
              "      <td>29</td>\n",
              "    </tr>\n",
              "    <tr>\n",
              "      <th>3</th>\n",
              "      <td>https://www.gofundme.com/a-chance-of-rebirth</td>\n",
              "      <td>Medical</td>\n",
              "      <td>1.0</td>\n",
              "      <td>[a, chanc, of, rebirth]</td>\n",
              "      <td>DUBLIN, CA</td>\n",
              "      <td>237424.0</td>\n",
              "      <td>225000</td>\n",
              "      <td>4708</td>\n",
              "      <td>1 month</td>\n",
              "      <td>9.7k</td>\n",
              "      <td>4.7k</td>\n",
              "      <td>sriram kanniah need your help today ! a chanc ...</td>\n",
              "      <td>37.702152</td>\n",
              "      <td>-121.935792</td>\n",
              "      <td>4</td>\n",
              "      <td>76</td>\n",
              "      <td>11.842105</td>\n",
              "      <td>19</td>\n",
              "    </tr>\n",
              "    <tr>\n",
              "      <th>4</th>\n",
              "      <td>https://www.gofundme.com/teamclaire</td>\n",
              "      <td>Medical</td>\n",
              "      <td>1.0</td>\n",
              "      <td>[clair, wineland, need, our, help]</td>\n",
              "      <td>GARDEN GROVE, CA</td>\n",
              "      <td>236590.0</td>\n",
              "      <td>225000</td>\n",
              "      <td>8393</td>\n",
              "      <td>2 months</td>\n",
              "      <td>6.4k</td>\n",
              "      <td>8.9k</td>\n",
              "      <td>melissa yeager need your help today ! clair wi...</td>\n",
              "      <td>33.774269</td>\n",
              "      <td>-117.937995</td>\n",
              "      <td>5</td>\n",
              "      <td>72</td>\n",
              "      <td>18.055556</td>\n",
              "      <td>21</td>\n",
              "    </tr>\n",
              "  </tbody>\n",
              "</table>\n",
              "</div>\n",
              "      <button class=\"colab-df-convert\" onclick=\"convertToInteractive('df-b0bdf32e-cfba-4378-beed-aeb85f2fc9d7')\"\n",
              "              title=\"Convert this dataframe to an interactive table.\"\n",
              "              style=\"display:none;\">\n",
              "        \n",
              "  <svg xmlns=\"http://www.w3.org/2000/svg\" height=\"24px\"viewBox=\"0 0 24 24\"\n",
              "       width=\"24px\">\n",
              "    <path d=\"M0 0h24v24H0V0z\" fill=\"none\"/>\n",
              "    <path d=\"M18.56 5.44l.94 2.06.94-2.06 2.06-.94-2.06-.94-.94-2.06-.94 2.06-2.06.94zm-11 1L8.5 8.5l.94-2.06 2.06-.94-2.06-.94L8.5 2.5l-.94 2.06-2.06.94zm10 10l.94 2.06.94-2.06 2.06-.94-2.06-.94-.94-2.06-.94 2.06-2.06.94z\"/><path d=\"M17.41 7.96l-1.37-1.37c-.4-.4-.92-.59-1.43-.59-.52 0-1.04.2-1.43.59L10.3 9.45l-7.72 7.72c-.78.78-.78 2.05 0 2.83L4 21.41c.39.39.9.59 1.41.59.51 0 1.02-.2 1.41-.59l7.78-7.78 2.81-2.81c.8-.78.8-2.07 0-2.86zM5.41 20L4 18.59l7.72-7.72 1.47 1.35L5.41 20z\"/>\n",
              "  </svg>\n",
              "      </button>\n",
              "      \n",
              "  <style>\n",
              "    .colab-df-container {\n",
              "      display:flex;\n",
              "      flex-wrap:wrap;\n",
              "      gap: 12px;\n",
              "    }\n",
              "\n",
              "    .colab-df-convert {\n",
              "      background-color: #E8F0FE;\n",
              "      border: none;\n",
              "      border-radius: 50%;\n",
              "      cursor: pointer;\n",
              "      display: none;\n",
              "      fill: #1967D2;\n",
              "      height: 32px;\n",
              "      padding: 0 0 0 0;\n",
              "      width: 32px;\n",
              "    }\n",
              "\n",
              "    .colab-df-convert:hover {\n",
              "      background-color: #E2EBFA;\n",
              "      box-shadow: 0px 1px 2px rgba(60, 64, 67, 0.3), 0px 1px 3px 1px rgba(60, 64, 67, 0.15);\n",
              "      fill: #174EA6;\n",
              "    }\n",
              "\n",
              "    [theme=dark] .colab-df-convert {\n",
              "      background-color: #3B4455;\n",
              "      fill: #D2E3FC;\n",
              "    }\n",
              "\n",
              "    [theme=dark] .colab-df-convert:hover {\n",
              "      background-color: #434B5C;\n",
              "      box-shadow: 0px 1px 3px 1px rgba(0, 0, 0, 0.15);\n",
              "      filter: drop-shadow(0px 1px 2px rgba(0, 0, 0, 0.3));\n",
              "      fill: #FFFFFF;\n",
              "    }\n",
              "  </style>\n",
              "\n",
              "      <script>\n",
              "        const buttonEl =\n",
              "          document.querySelector('#df-b0bdf32e-cfba-4378-beed-aeb85f2fc9d7 button.colab-df-convert');\n",
              "        buttonEl.style.display =\n",
              "          google.colab.kernel.accessAllowed ? 'block' : 'none';\n",
              "\n",
              "        async function convertToInteractive(key) {\n",
              "          const element = document.querySelector('#df-b0bdf32e-cfba-4378-beed-aeb85f2fc9d7');\n",
              "          const dataTable =\n",
              "            await google.colab.kernel.invokeFunction('convertToInteractive',\n",
              "                                                     [key], {});\n",
              "          if (!dataTable) return;\n",
              "\n",
              "          const docLinkHtml = 'Like what you see? Visit the ' +\n",
              "            '<a target=\"_blank\" href=https://colab.research.google.com/notebooks/data_table.ipynb>data table notebook</a>'\n",
              "            + ' to learn more about interactive tables.';\n",
              "          element.innerHTML = '';\n",
              "          dataTable['output_type'] = 'display_data';\n",
              "          await google.colab.output.renderOutput(dataTable, element);\n",
              "          const docLink = document.createElement('div');\n",
              "          docLink.innerHTML = docLinkHtml;\n",
              "          element.appendChild(docLink);\n",
              "        }\n",
              "      </script>\n",
              "    </div>\n",
              "  </div>\n",
              "  "
            ]
          },
          "metadata": {},
          "execution_count": 41
        }
      ],
      "source": [
        "df.head()"
      ]
    },
    {
      "cell_type": "code",
      "execution_count": null,
      "metadata": {
        "id": "7kxRsB-sm9MB"
      },
      "outputs": [],
      "source": [
        "# calculate the average word length\n",
        "#def get_avg_word_length(text):\n",
        "#    words = text.split()\n",
        "#    if len(words) > 0:\n",
        "#        return sum(len(word) for word in words) / len(words)\n",
        "#    else:\n",
        "#        return 0\n",
        "\n",
        "#avg_word_length = df['Text'].apply(get_avg_word_length).mean()\n"
      ]
    },
    {
      "cell_type": "code",
      "execution_count": null,
      "metadata": {
        "id": "ZmEAEwxe0vR7"
      },
      "outputs": [],
      "source": [
        "#print(avg_word_length)"
      ]
    },
    {
      "cell_type": "code",
      "source": [
        "average_text_length = df['Text_Length'].mean()\n",
        "average_text_length"
      ],
      "metadata": {
        "colab": {
          "base_uri": "https://localhost:8080/"
        },
        "id": "SXjFnDN4jIeN",
        "outputId": "12f68ac2-be81-4cac-8609-dcae50080de1"
      },
      "execution_count": null,
      "outputs": [
        {
          "output_type": "execute_result",
          "data": {
            "text/plain": [
              "71.22705314009661"
            ]
          },
          "metadata": {},
          "execution_count": 44
        }
      ]
    },
    {
      "cell_type": "code",
      "source": [
        "# save the dataset to a CSV file\n",
        "df.to_csv('GFM.csv', index=False)"
      ],
      "metadata": {
        "id": "vgYk_kuw6qxo"
      },
      "execution_count": null,
      "outputs": []
    },
    {
      "cell_type": "markdown",
      "source": [
        "**compute word embedding**"
      ],
      "metadata": {
        "id": "kowwgCITEQRc"
      }
    },
    {
      "cell_type": "code",
      "execution_count": null,
      "metadata": {
        "id": "-R-7QlY3F3Kz"
      },
      "outputs": [],
      "source": [
        "#!pip install transformers"
      ]
    },
    {
      "cell_type": "code",
      "execution_count": null,
      "metadata": {
        "id": "oXU_-CzKFsX8"
      },
      "outputs": [],
      "source": [
        "#import torch\n",
        "#from transformers import AutoTokenizer, AutoModel"
      ]
    },
    {
      "cell_type": "code",
      "execution_count": null,
      "metadata": {
        "id": "IkoG8cc9Fsz7"
      },
      "outputs": [],
      "source": [
        "#tokenizer = AutoTokenizer.from_pretrained('bert-base-uncased')\n",
        "#model = AutoModel.from_pretrained('bert-base-uncased')"
      ]
    },
    {
      "cell_type": "code",
      "execution_count": null,
      "metadata": {
        "id": "FP3Xb29_B7M1"
      },
      "outputs": [],
      "source": [
        "def compute_word_embeddings(text):\n",
        "    # Tokenize text into words\n",
        "    words = text.split() # assumes words are separated by whitespace\n",
        "    # Compute BERT embeddings for each word\n",
        "    embeddings = []\n",
        "    for word in words:\n",
        "        encoded_word = tokenizer.encode(word, add_special_tokens=True, max_length=300, truncation=True)\n",
        "        input_ids = torch.tensor(encoded_word).unsqueeze(0)\n",
        "        outputs = model(input_ids)\n",
        "        last_hidden_state = outputs.last_hidden_state\n",
        "        word_embedding = torch.mean(last_hidden_state, dim=1).squeeze().detach().numpy()\n",
        "        embeddings.append(word_embedding)\n",
        "    # Compute differences between sequential embeddings\n",
        "    differences = []\n",
        "    for i in range(len(embeddings)-1):\n",
        "        diff = np.abs(embeddings[i+1] - embeddings[i])\n",
        "        differences.append(diff)\n",
        "    # Compute mean of differences\n",
        "    if len(differences) == 0:\n",
        "        mean_diff = max_diff = min_diff = std_diff = np.nan\n",
        "    else:\n",
        "        mean_diff = np.mean(differences)\n",
        "    return embeddings, mean_diff\n"
      ]
    },
    {
      "cell_type": "code",
      "execution_count": null,
      "metadata": {
        "id": "NqG9LLKKB7Pb"
      },
      "outputs": [],
      "source": [
        "#df['speed'] = df['Text'].apply(compute_word_embeddings)"
      ]
    }
  ],
  "metadata": {
    "colab": {
      "provenance": []
    },
    "kernelspec": {
      "display_name": "Python 3",
      "name": "python3"
    },
    "language_info": {
      "name": "python"
    }
  },
  "nbformat": 4,
  "nbformat_minor": 0
}